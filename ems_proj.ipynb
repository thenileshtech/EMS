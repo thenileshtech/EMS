{
 "cells": [
  {
   "cell_type": "code",
   "execution_count": 1,
   "id": "23664265-c28a-40ec-81af-80b06cbfa851",
   "metadata": {},
   "outputs": [
    {
     "name": "stdout",
     "output_type": "stream",
     "text": [
      "\n",
      "----------------------------------------------------------------------\n",
      "                    STATE ELECTION COMMISSION 2023                    \n",
      "----------------------------------------------------------------------\n",
      "                        Welcome to EMS portal                          \n",
      "\n",
      "                            1. Admin Login                            \n",
      "                            2. Voter Login                            \n",
      "                            3. New Registration\n",
      "                           \n",
      "                            0. Exit                            \n",
      "----------------------------------------------------------------------\n"
     ]
    },
    {
     "name": "stdin",
     "output_type": "stream",
     "text": [
      "Enter option: - 1\n"
     ]
    },
    {
     "name": "stdout",
     "output_type": "stream",
     "text": [
      "                   Login \n",
      "\n"
     ]
    },
    {
     "name": "stdin",
     "output_type": "stream",
     "text": [
      "User Id  :  adm-1\n",
      "Password :  N1234\n"
     ]
    },
    {
     "name": "stdout",
     "output_type": "stream",
     "text": [
      "\n",
      "        Login Successfully       \n"
     ]
    },
    {
     "name": "stdin",
     "output_type": "stream",
     "text": [
      " \n"
     ]
    },
    {
     "name": "stdout",
     "output_type": "stream",
     "text": [
      "\n",
      "----------------------------------------------------------------------\n",
      "                    STATE ELECTION COMMISSION 2023                    \n",
      "----------------------------------------------------------------------\n",
      "                       Welcome to ADMIN portal                         \n",
      "\n",
      "                         1. Conduct Election                          \n",
      "                         2. Add Political Party                         \n",
      "                         3. Add User\n",
      "                         \n",
      "                         0. Logout                          \n",
      "----------------------------------------------------------------------\n"
     ]
    },
    {
     "name": "stdin",
     "output_type": "stream",
     "text": [
      "Enter option: - 1\n"
     ]
    },
    {
     "name": "stdout",
     "output_type": "stream",
     "text": [
      "\n",
      "Party Id                              Party Name\n",
      "                              \n",
      "PAR-100\t                                  bjp                                  \n",
      "PAR-101\t                                CONGRESS                               \n"
     ]
    },
    {
     "name": "stdin",
     "output_type": "stream",
     "text": [
      "\n",
      "Please enter party id from above list  :  par-101\n"
     ]
    },
    {
     "name": "stdout",
     "output_type": "stream",
     "text": [
      "\n",
      "---Please Enter Election Date---\n",
      "\n"
     ]
    },
    {
     "name": "stdin",
     "output_type": "stream",
     "text": [
      "Day (DD)             :  29\n",
      "Month (MM)           :  12\n",
      "Year (YYYY)          :  2023\n"
     ]
    },
    {
     "name": "stdout",
     "output_type": "stream",
     "text": [
      "\n",
      "New record added - ELC-5001\n"
     ]
    },
    {
     "name": "stdin",
     "output_type": "stream",
     "text": [
      " \n"
     ]
    },
    {
     "name": "stdout",
     "output_type": "stream",
     "text": [
      "...Max retry exceeded !!...\n",
      "\n",
      "----------------------------------------------------------------------\n",
      "                    STATE ELECTION COMMISSION 2023                    \n",
      "----------------------------------------------------------------------\n",
      "                       Welcome to ADMIN portal                         \n",
      "\n",
      "                         1. Conduct Election                          \n",
      "                         2. Add Political Party                         \n",
      "                         3. Add User\n",
      "                         \n",
      "                         0. Logout                          \n",
      "----------------------------------------------------------------------\n"
     ]
    },
    {
     "name": "stdin",
     "output_type": "stream",
     "text": [
      "Enter option: - 2\n"
     ]
    },
    {
     "name": "stdout",
     "output_type": "stream",
     "text": [
      "\n",
      "----------------------------------------------------------------------\n",
      "                    STATE ELECTION COMMISSION 2023                    \n",
      "----------------------------------------------------------------------\n",
      "                       Welcome to ADMIN portal                         \n",
      "\n",
      "                         Add Political Party                          \n",
      "\n",
      "\n"
     ]
    },
    {
     "name": "stdin",
     "output_type": "stream",
     "text": [
      "Enter party name :  am admi\n",
      "Enter city       :  pune\n"
     ]
    },
    {
     "name": "stdout",
     "output_type": "stream",
     "text": [
      "\n",
      "New record added - PAR-102\n"
     ]
    },
    {
     "name": "stdin",
     "output_type": "stream",
     "text": [
      " \n"
     ]
    },
    {
     "name": "stdout",
     "output_type": "stream",
     "text": [
      "\n",
      "----------------------------------------------------------------------\n",
      "                    STATE ELECTION COMMISSION 2023                    \n",
      "----------------------------------------------------------------------\n",
      "                       Welcome to ADMIN portal                         \n",
      "\n",
      "                         1. Conduct Election                          \n",
      "                         2. Add Political Party                         \n",
      "                         3. Add User\n",
      "                         \n",
      "                         0. Logout                          \n",
      "----------------------------------------------------------------------\n"
     ]
    },
    {
     "name": "stdin",
     "output_type": "stream",
     "text": [
      "Enter option: - 3\n"
     ]
    },
    {
     "name": "stdout",
     "output_type": "stream",
     "text": [
      "\n",
      "----------------------------------------------------------------------\n",
      "                    STATE ELECTION COMMISSION 2023                    \n",
      "----------------------------------------------------------------------\n",
      "                       Welcome to ADMIN portal                         \n",
      "\n",
      "                           1. Add Candidate                           \n",
      "                           2. Add Voter                           \n",
      "                           3. Add Admin\n",
      "                           \n",
      "                           0. Go back                          \n",
      "----------------------------------------------------------------------\n"
     ]
    },
    {
     "name": "stdin",
     "output_type": "stream",
     "text": [
      "Enter option: - 1\n"
     ]
    },
    {
     "name": "stdout",
     "output_type": "stream",
     "text": [
      "\n",
      "----------------------------------------------------------------------\n",
      "                    STATE ELECTION COMMISSION 2023                    \n",
      "----------------------------------------------------------------------\n",
      "                       Welcome to ADMIN portal                         \n",
      "\n",
      "                            Add Candidate                             \n",
      "\n",
      "\n"
     ]
    },
    {
     "name": "stdin",
     "output_type": "stream",
     "text": [
      "Enter candidate name :  suraj khanna\n",
      "Day (DD)             :  1\n",
      "Month (MM)           :  1\n",
      "Year (YYYY)          :  1994\n"
     ]
    },
    {
     "name": "stdout",
     "output_type": "stream",
     "text": [
      "\n",
      "Party Id                              Party Name\n",
      "                              \n",
      "PAR-100\t                                  bjp                                  \n",
      "PAR-101\t                                CONGRESS                               \n",
      "PAR-102\t                                AM ADMI                                \n"
     ]
    },
    {
     "name": "stdin",
     "output_type": "stream",
     "text": [
      "\n",
      "Please enter party id from above list  :  par-101\n"
     ]
    },
    {
     "name": "stdout",
     "output_type": "stream",
     "text": [
      "\n",
      "New record added - CAN-1000\n"
     ]
    },
    {
     "name": "stdin",
     "output_type": "stream",
     "text": [
      " \n"
     ]
    },
    {
     "name": "stdout",
     "output_type": "stream",
     "text": [
      "\n",
      "----------------------------------------------------------------------\n",
      "                    STATE ELECTION COMMISSION 2023                    \n",
      "----------------------------------------------------------------------\n",
      "                       Welcome to ADMIN portal                         \n",
      "\n",
      "                           1. Add Candidate                           \n",
      "                           2. Add Voter                           \n",
      "                           3. Add Admin\n",
      "                           \n",
      "                           0. Go back                          \n",
      "----------------------------------------------------------------------\n"
     ]
    },
    {
     "name": "stdin",
     "output_type": "stream",
     "text": [
      "Enter option: - 0\n"
     ]
    },
    {
     "name": "stdout",
     "output_type": "stream",
     "text": [
      "\n",
      "----------------------------------------------------------------------\n",
      "                    STATE ELECTION COMMISSION 2023                    \n",
      "----------------------------------------------------------------------\n",
      "                       Welcome to ADMIN portal                         \n",
      "\n",
      "                         1. Conduct Election                          \n",
      "                         2. Add Political Party                         \n",
      "                         3. Add User\n",
      "                         \n",
      "                         0. Logout                          \n",
      "----------------------------------------------------------------------\n"
     ]
    },
    {
     "name": "stdin",
     "output_type": "stream",
     "text": [
      "Enter option: - 0\n"
     ]
    },
    {
     "name": "stdout",
     "output_type": "stream",
     "text": [
      "\n",
      "----------------------------------------------------------------------\n",
      "                    STATE ELECTION COMMISSION 2023                    \n",
      "----------------------------------------------------------------------\n",
      "                        Welcome to EMS portal                          \n",
      "\n",
      "                            1. Admin Login                            \n",
      "                            2. Voter Login                            \n",
      "                            3. New Registration\n",
      "                           \n",
      "                            0. Exit                            \n",
      "----------------------------------------------------------------------\n"
     ]
    },
    {
     "name": "stdin",
     "output_type": "stream",
     "text": [
      "Enter option: - 0\n"
     ]
    },
    {
     "name": "stdout",
     "output_type": "stream",
     "text": [
      "                   Login \n",
      "\n"
     ]
    },
    {
     "name": "stdout",
     "output_type": "stream",
     "text": [
      "User Id  :  asdf\n",
      "Password :  dsfa\n"
     ]
    },
    {
     "name": "stdout",
     "output_type": "stream",
     "text": [
      "Invalid Credintials !! Try Again\n",
      "\n",
      "                   Login \n",
      "\n"
     ]
    },
    {
     "name": "stdout",
     "output_type": "stream",
     "text": [
      "User Id  :  nilesh\n",
      "Password :  123\n"
     ]
    },
    {
     "name": "stdout",
     "output_type": "stream",
     "text": [
      "\n",
      "----------------------------------------\n",
      "     STATE ELECTION COMMISSION 2023     \n",
      "----------------------------------------\n",
      "        Welcome to ADMIN portal          \n",
      "\n",
      "          1. Conduct Election           \n",
      "          2. Add Political Party          \n",
      "          3. Add User\n",
      "          \n",
      "          0. Logout           \n",
      "----------------------------------------\n"
     ]
    },
    {
     "name": "stdout",
     "output_type": "stream",
     "text": [
      "Enter option: - 3\n"
     ]
    },
    {
     "name": "stdout",
     "output_type": "stream",
     "text": [
      "\n",
      "----------------------------------------\n",
      "     STATE ELECTION COMMISSION 2023     \n",
      "----------------------------------------\n",
      "        Welcome to ADMIN portal          \n",
      "\n",
      "            1. Add Candidate            \n",
      "            2. Add Voter            \n",
      "            3. Add Admin\n",
      "            \n",
      "            0. Go back           \n",
      "----------------------------------------\n"
     ]
    },
    {
     "name": "stdout",
     "output_type": "stream",
     "text": [
      "Enter option: - 0\n"
     ]
    },
    {
     "name": "stdout",
     "output_type": "stream",
     "text": [
      "\n",
      "----------------------------------------\n",
      "     STATE ELECTION COMMISSION 2023     \n",
      "----------------------------------------\n",
      "        Welcome to ADMIN portal          \n",
      "\n",
      "          1. Conduct Election           \n",
      "          2. Add Political Party          \n",
      "          3. Add User\n",
      "          \n",
      "          0. Logout           \n",
      "----------------------------------------\n"
     ]
    },
    {
     "name": "stdout",
     "output_type": "stream",
     "text": [
      "Enter option: - 0\n"
     ]
    },
    {
     "name": "stdout",
     "output_type": "stream",
     "text": [
      "\n",
      "----------------------------------------\n",
      "     STATE ELECTION COMMISSION 2023     \n",
      "----------------------------------------\n",
      "         Welcome to EMS portal           \n",
      "\n",
      "             1. Admin Login             \n",
      "             2. Voter Login             \n",
      "             3. New Registration\n",
      "            \n",
      "             0. Exit             \n",
      "----------------------------------------\n"
     ]
    },
    {
     "name": "stdout",
     "output_type": "stream",
     "text": [
      "Enter option: - 0\n"
     ]
    }
   ],
   "source": [
    "try:\n",
    "    import os,logging,platform,sys\n",
    "    from datetime import date\n",
    "    sys.path.append(r\"C:\\Users\\nilesh\\Documents\\EMS\")\n",
    "    import config.error_config as err\n",
    "    import common.dashboard as dashboard\n",
    "    import common.data_saver as db\n",
    "    logger = logging.getLogger('EMS') # Creating logger to track activities\n",
    "    logging.basicConfig(filename='log/logs.log',filemode='a',encoding='utf-8', level=logging.DEBUG)\n",
    "except ModuleNotFoundError:\n",
    "    print(err.e101)\n",
    "    raise\n",
    "except AttributeError:\n",
    "    logger.error(err.e102)\n",
    "    raise AttributeError(f\"-----------{err.e102}---------------\")\n",
    "\n",
    "class compatibility_check:\n",
    "    def __init__(self) -> None:\n",
    "        operating_system = platform.system().upper()\n",
    "        if operating_system in ['WINDOWS','LINUX','MAC']:\n",
    "            logger.info(f\"{err.i101} {operating_system}\")\n",
    "        else:\n",
    "            logger.warning(f\"{operating_system}; {err.w101}\")\n",
    "\n",
    "class clear_screen:\n",
    "    def __init__(self) -> None:\n",
    "        operating_system = platform.system().upper()\n",
    "        if operating_system == \"WINDOWS\":\n",
    "            os.system('cls')\n",
    "        elif operating_system in ['LINUX','MAC']:\n",
    "            os.system('clear')\n",
    "            \n",
    "def calculateAge(birthDate) -> int:\n",
    "                today = date.today()\n",
    "                age = today.year - birthDate.year - ((today.month, today.day) < (birthDate.month, birthDate.day))\n",
    "                return int(age)\n",
    "\n",
    "def main():\n",
    "    compatibility_check()\n",
    "    session = dashboard.start_screen()\n",
    "    db.create_tables() # Tables creation if tables are not exists\n",
    "    session.main_menu()\n",
    "    db.conn.close()\n",
    "\n",
    "if __name__ == '__main__':\n",
    "    main()"
   ]
  }
 ],
 "metadata": {
  "kernelspec": {
   "display_name": "Python 3 (ipykernel)",
   "language": "python",
   "name": "python3"
  },
  "language_info": {
   "codemirror_mode": {
    "name": "ipython",
    "version": 3
   },
   "file_extension": ".py",
   "mimetype": "text/x-python",
   "name": "python",
   "nbconvert_exporter": "python",
   "pygments_lexer": "ipython3",
   "version": "3.12.0"
  }
 },
 "nbformat": 4,
 "nbformat_minor": 5
}
